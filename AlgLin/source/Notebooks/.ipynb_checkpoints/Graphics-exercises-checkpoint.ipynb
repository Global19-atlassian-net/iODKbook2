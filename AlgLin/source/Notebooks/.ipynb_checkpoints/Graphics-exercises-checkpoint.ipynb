{
 "cells": [
  {
   "cell_type": "code",
   "execution_count": null,
   "metadata": {},
   "outputs": [],
   "source": [
    "**Exercise 1.**\n",
    "\n",
    "Define a polygon on vertices $(3,3),\\, (2,3+ sqrt(3)),\\, (3,3+\\frac{2 sqrt(3)}{3}),\\, (4,3+sqrt(3))$ \n",
    "and find its reflection with respect to a line $l: y=2x-1$."
   ]
  },
  {
   "cell_type": "raw",
   "metadata": {},
   "source": []
  },
  {
   "cell_type": "markdown",
   "metadata": {},
   "source": [
    "(Hint: Use the translation with ``t_1=0, t_2=1``.)"
   ]
  },
  {
   "cell_type": "markdown",
   "metadata": {},
   "source": [
    "**Exercise 2.**\n",
    "\n",
    "Produce an animation which rotates the polygon from Exercise 1. "
   ]
  },
  {
   "cell_type": "markdown",
   "metadata": {},
   "source": [
    "a). around the origin $(0,0)$,"
   ]
  },
  {
   "cell_type": "raw",
   "metadata": {},
   "source": []
  },
  {
   "cell_type": "markdown",
   "metadata": {},
   "source": [
    "b). around the point $(3,3)$."
   ]
  },
  {
   "cell_type": "raw",
   "metadata": {},
   "source": []
  },
  {
   "cell_type": "markdown",
   "metadata": {},
   "source": [
    "c). Fill in the code below to produce the following effect (each part should be done in a separate window; the commands written at the bottom verify whether the third vertex of the polygon is translated to a correct position):\n",
    "\n",
    "- first $60^{\\circ}$ of rotation is around the point $(3,3)$,"
   ]
  },
  {
   "cell_type": "raw",
   "metadata": {},
   "source": [
    "import numpy.testing as npt\n",
    "P=   # define the initial polygon: order the points in the same way as in the statement of the exercise\n",
    "        \n",
    "V=  # define the list of points of the polygon after rotation by 60 degrees    \n",
    "        \n",
    "npt.assert_almost_equal(V[2],(2,3.57735026918963, 1))"
   ]
  },
  {
   "cell_type": "markdown",
   "metadata": {},
   "source": [
    "- next $120^{\\circ}$ of rotation is around the point $(1,3)$ \n",
    "    (this is where the vertex $(2,3+ sqrt(3))$ lands after rotation by $60^{\\circ}$),"
   ]
  },
  {
   "cell_type": "raw",
   "metadata": {},
   "source": [
    "#write the code here \n",
    "     \n",
    "     \n",
    "RV=  # define the list of points of the polygon after rotation by 120 degrees\n",
    "\n",
    "npt.assert_almost_equal(RV[2],(0, 3.57735026918962, 1))"
   ]
  },
  {
   "cell_type": "markdown",
   "metadata": {},
   "source": [
    "- next $120^{\\circ}$ of rotation is around the point $(-1,3)$,"
   ]
  },
  {
   "cell_type": "raw",
   "metadata": {},
   "source": [
    "#write the code here \n",
    "     \n",
    "     \n",
    "RRV=  # define the list of points of the polygon after rotation by next 120 degrees\n",
    "\n",
    "npt.assert_almost_equal(RRV[2],(-2, 3.57735026918962, 1))"
   ]
  },
  {
   "cell_type": "markdown",
   "metadata": {},
   "source": [
    "- last $60^{\\circ}$ of rotation is around the point $(-3,3)$."
   ]
  },
  {
   "cell_type": "raw",
   "metadata": {},
   "source": [
    "#write the code here \n",
    "     \n",
    "     \n",
    "RRRV=  # define the list of points of the polygon after rotation by last 60 degrees\n",
    "\n",
    "npt.assert_almost_equal(RRRV[2],(-2, 2.42264973081038, 1))\n",
    " "
   ]
  },
  {
   "cell_type": "markdown",
   "metadata": {},
   "source": [
    "d). Use the code produced in point c). to obtain an animation."
   ]
  },
  {
   "cell_type": "raw",
   "metadata": {},
   "source": []
  },
  {
   "cell_type": "markdown",
   "metadata": {},
   "source": [
    "e). Mark a thick red point on the vertex $(3,3)$. \n",
    "Imagine that this is a ball which rolls along the edge of the polygon while \n",
    "the polygon is rotating. Include the movement of this ball inside the polygon."
   ]
  },
  {
   "cell_type": "raw",
   "metadata": {},
   "source": []
  }
 ],
 "metadata": {
  "kernelspec": {
   "display_name": "SageMath 8.2",
   "language": "",
   "name": "sagemath82"
  },
  "language_info": {
   "codemirror_mode": {
    "name": "ipython",
    "version": 2
   },
   "file_extension": ".py",
   "mimetype": "text/x-python",
   "name": "python",
   "nbconvert_exporter": "python",
   "pygments_lexer": "ipython2",
   "version": "2.7.14"
  }
 },
 "nbformat": 4,
 "nbformat_minor": 2
}
