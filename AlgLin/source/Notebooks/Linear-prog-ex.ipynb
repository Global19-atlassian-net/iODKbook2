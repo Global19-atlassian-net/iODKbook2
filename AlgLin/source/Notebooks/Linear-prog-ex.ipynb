{
 "cells": [
  {
   "cell_type": "markdown",
   "metadata": {},
   "source": [
    "The examples to which we refer in exercises below come from section Linear Programming."
   ]
  },
  {
   "cell_type": "markdown",
   "metadata": {},
   "source": [
    "**Exercise 1.**\n",
    "\n",
    "One school organizes a trip for 250 people. A shipping company offers coaches of types A, B, C which can take 32, 45 and 60 people resepctively, and cost 600, 800 and 1000 euros respectively. Find out how many coaches of each type the school should hire so that the cost is minimal."
   ]
  },
  {
   "cell_type": "raw",
   "metadata": {},
   "source": []
  },
  {
   "cell_type": "markdown",
   "metadata": {},
   "source": [
    "**Exercise 2.**\n",
    "\n",
    "Consider the diet problem from Example 2. Use simplex method to verify whether the solution obtained by the geometric method is correct."
   ]
  },
  {
   "cell_type": "raw",
   "metadata": {},
   "source": []
  },
  {
   "cell_type": "markdown",
   "metadata": {},
   "source": [
    "**Exercise 3.**\n",
    "\n",
    "A company Woolwear produces jackets, sweaters and shirts out of wool ($60$ units), cotton ($100$ units), zips ($50$ units), buttons ($60$ units) and fur ($60$ units). The following table presents the number of units of each material that is necessary for a production of a given type of clothing:"
   ]
  },
  {
   "cell_type": "raw",
   "metadata": {},
   "source": [
    "+----------+------+--------+-----+--------+-----+\n",
    "|          | Wool | Cotton | Zip | Button | Fur |\n",
    "+----------+------+--------+-----+--------+-----+\n",
    "| Sweater  | 2    | 5      | 1   | 0      |1    |\n",
    "+----------+------+--------+-----+--------+-----+\n",
    "| Jacket   | 1    | 7      | 0   | 2      |3    |\n",
    "+----------+------+--------+-----+--------+-----+\n",
    "| Shirt    | 1    | 1      | 3   | 3      |1    |\n",
    "+----------+------+--------+-----+--------+-----+"
   ]
  },
  {
   "cell_type": "markdown",
   "metadata": {},
   "source": [
    "Each sweater gives $20$ euros of profit, jacket gives $30$ euros of profit, and shirt $10$. How many sweaters, jackets and shirts the company should produce out of available materials in order to obtain a maximal profit?"
   ]
  },
  {
   "cell_type": "markdown",
   "metadata": {},
   "source": [
    "**Note:**\n",
    "The simplex method does not necesarily produce integer solutions; this may be the case for this problem. \n",
    "Try to round the solutions to integer values which satisfy the constraints and so that the resulting profit \n",
    "differs from the optimal one by less than $10$ (note that the profit is always the number divisible by $10$).\n",
    "In general, a linear programming problem where one seeks an integer solution is called an *integer programming problem*. See wikipedia page https://en.wikipedia.org/wiki/Integer_programming for a description and a list of possible algorithms. In fact, in contrast to linear programming problems which can be solved efficiently, \n",
    "integer programming problems are in may cases NP-hard."
   ]
  }
 ],
 "metadata": {
  "kernelspec": {
   "display_name": "SageMath 8.2",
   "language": "",
   "name": "sagemath82"
  },
  "language_info": {
   "codemirror_mode": {
    "name": "ipython",
    "version": 2
   },
   "file_extension": ".py",
   "mimetype": "text/x-python",
   "name": "python",
   "nbconvert_exporter": "python",
   "pygments_lexer": "ipython2",
   "version": "2.7.14"
  }
 },
 "nbformat": 4,
 "nbformat_minor": 2
}
